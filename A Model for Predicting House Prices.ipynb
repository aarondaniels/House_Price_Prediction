{
 "cells": [
  {
   "cell_type": "markdown",
   "id": "75e102c7",
   "metadata": {},
   "source": [
    "This exercise will use a linear regression model to predict the value of a home based on a series of variables\n",
    "\n",
    "See the data description for details on the data variables. "
   ]
  },
  {
   "cell_type": "markdown",
   "id": "774d2516",
   "metadata": {},
   "source": [
    "# Evaluate the Data"
   ]
  },
  {
   "cell_type": "code",
   "execution_count": 3,
   "id": "8d437034",
   "metadata": {},
   "outputs": [
    {
     "data": {
      "text/html": [
       "<div>\n",
       "<style scoped>\n",
       "    .dataframe tbody tr th:only-of-type {\n",
       "        vertical-align: middle;\n",
       "    }\n",
       "\n",
       "    .dataframe tbody tr th {\n",
       "        vertical-align: top;\n",
       "    }\n",
       "\n",
       "    .dataframe thead th {\n",
       "        text-align: right;\n",
       "    }\n",
       "</style>\n",
       "<table border=\"1\" class=\"dataframe\">\n",
       "  <thead>\n",
       "    <tr style=\"text-align: right;\">\n",
       "      <th></th>\n",
       "      <th>Unnamed: 0</th>\n",
       "      <th>Id</th>\n",
       "      <th>MSSubClass</th>\n",
       "      <th>MSZoning</th>\n",
       "      <th>LotFrontage</th>\n",
       "      <th>LotArea</th>\n",
       "      <th>Street</th>\n",
       "      <th>Alley</th>\n",
       "      <th>LotShape</th>\n",
       "      <th>LandContour</th>\n",
       "      <th>...</th>\n",
       "      <th>PoolArea</th>\n",
       "      <th>PoolQC</th>\n",
       "      <th>Fence</th>\n",
       "      <th>MiscFeature</th>\n",
       "      <th>MiscVal</th>\n",
       "      <th>MoSold</th>\n",
       "      <th>YrSold</th>\n",
       "      <th>SaleType</th>\n",
       "      <th>SaleCondition</th>\n",
       "      <th>SalePrice</th>\n",
       "    </tr>\n",
       "  </thead>\n",
       "  <tbody>\n",
       "    <tr>\n",
       "      <th>0</th>\n",
       "      <td>0</td>\n",
       "      <td>1</td>\n",
       "      <td>60</td>\n",
       "      <td>RL</td>\n",
       "      <td>65.0</td>\n",
       "      <td>8450</td>\n",
       "      <td>Pave</td>\n",
       "      <td>NaN</td>\n",
       "      <td>Reg</td>\n",
       "      <td>Lvl</td>\n",
       "      <td>...</td>\n",
       "      <td>0</td>\n",
       "      <td>NaN</td>\n",
       "      <td>NaN</td>\n",
       "      <td>NaN</td>\n",
       "      <td>0</td>\n",
       "      <td>2</td>\n",
       "      <td>2008</td>\n",
       "      <td>WD</td>\n",
       "      <td>Normal</td>\n",
       "      <td>208500</td>\n",
       "    </tr>\n",
       "    <tr>\n",
       "      <th>1</th>\n",
       "      <td>1</td>\n",
       "      <td>2</td>\n",
       "      <td>20</td>\n",
       "      <td>RL</td>\n",
       "      <td>80.0</td>\n",
       "      <td>9600</td>\n",
       "      <td>Pave</td>\n",
       "      <td>NaN</td>\n",
       "      <td>Reg</td>\n",
       "      <td>Lvl</td>\n",
       "      <td>...</td>\n",
       "      <td>0</td>\n",
       "      <td>NaN</td>\n",
       "      <td>NaN</td>\n",
       "      <td>NaN</td>\n",
       "      <td>0</td>\n",
       "      <td>5</td>\n",
       "      <td>2007</td>\n",
       "      <td>WD</td>\n",
       "      <td>Normal</td>\n",
       "      <td>181500</td>\n",
       "    </tr>\n",
       "    <tr>\n",
       "      <th>2</th>\n",
       "      <td>2</td>\n",
       "      <td>3</td>\n",
       "      <td>60</td>\n",
       "      <td>RL</td>\n",
       "      <td>68.0</td>\n",
       "      <td>11250</td>\n",
       "      <td>Pave</td>\n",
       "      <td>NaN</td>\n",
       "      <td>IR1</td>\n",
       "      <td>Lvl</td>\n",
       "      <td>...</td>\n",
       "      <td>0</td>\n",
       "      <td>NaN</td>\n",
       "      <td>NaN</td>\n",
       "      <td>NaN</td>\n",
       "      <td>0</td>\n",
       "      <td>9</td>\n",
       "      <td>2008</td>\n",
       "      <td>WD</td>\n",
       "      <td>Normal</td>\n",
       "      <td>223500</td>\n",
       "    </tr>\n",
       "    <tr>\n",
       "      <th>3</th>\n",
       "      <td>3</td>\n",
       "      <td>4</td>\n",
       "      <td>70</td>\n",
       "      <td>RL</td>\n",
       "      <td>60.0</td>\n",
       "      <td>9550</td>\n",
       "      <td>Pave</td>\n",
       "      <td>NaN</td>\n",
       "      <td>IR1</td>\n",
       "      <td>Lvl</td>\n",
       "      <td>...</td>\n",
       "      <td>0</td>\n",
       "      <td>NaN</td>\n",
       "      <td>NaN</td>\n",
       "      <td>NaN</td>\n",
       "      <td>0</td>\n",
       "      <td>2</td>\n",
       "      <td>2006</td>\n",
       "      <td>WD</td>\n",
       "      <td>Abnorml</td>\n",
       "      <td>140000</td>\n",
       "    </tr>\n",
       "    <tr>\n",
       "      <th>4</th>\n",
       "      <td>4</td>\n",
       "      <td>5</td>\n",
       "      <td>60</td>\n",
       "      <td>RL</td>\n",
       "      <td>84.0</td>\n",
       "      <td>14260</td>\n",
       "      <td>Pave</td>\n",
       "      <td>NaN</td>\n",
       "      <td>IR1</td>\n",
       "      <td>Lvl</td>\n",
       "      <td>...</td>\n",
       "      <td>0</td>\n",
       "      <td>NaN</td>\n",
       "      <td>NaN</td>\n",
       "      <td>NaN</td>\n",
       "      <td>0</td>\n",
       "      <td>12</td>\n",
       "      <td>2008</td>\n",
       "      <td>WD</td>\n",
       "      <td>Normal</td>\n",
       "      <td>250000</td>\n",
       "    </tr>\n",
       "  </tbody>\n",
       "</table>\n",
       "<p>5 rows × 82 columns</p>\n",
       "</div>"
      ],
      "text/plain": [
       "   Unnamed: 0  Id  MSSubClass MSZoning  LotFrontage  LotArea Street Alley  \\\n",
       "0           0   1          60       RL         65.0     8450   Pave   NaN   \n",
       "1           1   2          20       RL         80.0     9600   Pave   NaN   \n",
       "2           2   3          60       RL         68.0    11250   Pave   NaN   \n",
       "3           3   4          70       RL         60.0     9550   Pave   NaN   \n",
       "4           4   5          60       RL         84.0    14260   Pave   NaN   \n",
       "\n",
       "  LotShape LandContour  ... PoolArea PoolQC Fence MiscFeature MiscVal MoSold  \\\n",
       "0      Reg         Lvl  ...        0    NaN   NaN         NaN       0      2   \n",
       "1      Reg         Lvl  ...        0    NaN   NaN         NaN       0      5   \n",
       "2      IR1         Lvl  ...        0    NaN   NaN         NaN       0      9   \n",
       "3      IR1         Lvl  ...        0    NaN   NaN         NaN       0      2   \n",
       "4      IR1         Lvl  ...        0    NaN   NaN         NaN       0     12   \n",
       "\n",
       "  YrSold SaleType  SaleCondition  SalePrice  \n",
       "0   2008       WD         Normal     208500  \n",
       "1   2007       WD         Normal     181500  \n",
       "2   2008       WD         Normal     223500  \n",
       "3   2006       WD        Abnorml     140000  \n",
       "4   2008       WD         Normal     250000  \n",
       "\n",
       "[5 rows x 82 columns]"
      ]
     },
     "execution_count": 3,
     "metadata": {},
     "output_type": "execute_result"
    }
   ],
   "source": [
    "import pandas as pd\n",
    "\n",
    "data = pd.read_csv(\"houseSmallData.csv\")\n",
    "\n",
    "data.head()"
   ]
  },
  {
   "cell_type": "markdown",
   "id": "99a0b247",
   "metadata": {},
   "source": [
    "$$ Y = X_{1}\\beta_{1} + X_{2}\\beta_{2} +X_{2}\\beta_{2}...  $$\n",
    "\n",
    "In this formula, the Y will be the value of the home, which will be determined by variables in the data, noed by X (independent variable). Beta's will be used to optimize Y (dependent variable), according to the linear regression. "
   ]
  },
  {
   "cell_type": "code",
   "execution_count": 4,
   "id": "3b9479f2",
   "metadata": {},
   "outputs": [
    {
     "data": {
      "text/plain": [
       "(100, 82)"
      ]
     },
     "execution_count": 4,
     "metadata": {},
     "output_type": "execute_result"
    }
   ],
   "source": [
    "data.shape"
   ]
  },
  {
   "cell_type": "code",
   "execution_count": 30,
   "id": "b5562e6d",
   "metadata": {},
   "outputs": [
    {
     "data": {
      "text/plain": [
       "(100, 82)"
      ]
     },
     "execution_count": 30,
     "metadata": {},
     "output_type": "execute_result"
    }
   ],
   "source": [
    "#get training data by taking 20 rows from data set\n",
    "train = data.iloc[0:100, :]\n",
    "train.head()\n",
    "train.shape"
   ]
  },
  {
   "cell_type": "code",
   "execution_count": 31,
   "id": "89d2e3b1",
   "metadata": {},
   "outputs": [
    {
     "data": {
      "text/plain": [
       "count       100.000000\n",
       "mean     173820.660000\n",
       "std       72236.552886\n",
       "min       40000.000000\n",
       "25%      129362.500000\n",
       "50%      153750.000000\n",
       "75%      207750.000000\n",
       "max      438780.000000\n",
       "Name: SalePrice, dtype: float64"
      ]
     },
     "execution_count": 31,
     "metadata": {},
     "output_type": "execute_result"
    }
   ],
   "source": [
    "#investigate Sale Price\n",
    "salePrice = train['SalePrice'] #confirm all rows have a value (no null or 0)\n",
    "salePrice.describe() #evaluate data within the sale price column\n"
   ]
  },
  {
   "cell_type": "code",
   "execution_count": 32,
   "id": "f44b2c5a",
   "metadata": {},
   "outputs": [
    {
     "data": {
      "text/plain": [
       "(array([ 2., 17., 35., 17., 11.,  8.,  5.,  3.,  1.,  1.]),\n",
       " array([ 40000.,  79878., 119756., 159634., 199512., 239390., 279268.,\n",
       "        319146., 359024., 398902., 438780.]),\n",
       " <BarContainer object of 10 artists>)"
      ]
     },
     "execution_count": 32,
     "metadata": {},
     "output_type": "execute_result"
    },
    {
     "data": {
      "image/png": "[encoded data removed]",
      "text/plain": [
       "<Figure size 432x288 with 1 Axes>"
      ]
     },
     "metadata": {
      "needs_background": "light"
     },
     "output_type": "display_data"
    }
   ],
   "source": [
    "#plot histogram to visualize distribution of home prices\n",
    "import matplotlib.pyplot as plt\n",
    "\n",
    "plt.hist(train['SalePrice'])"
   ]
  },
  {
   "cell_type": "markdown",
   "id": "5fd47592",
   "metadata": {},
   "source": [
    "Histogram suggests this is not a normally distributed data set (more like a log-normal distribution). To correct, take the log of teh sale price"
   ]
  },
  {
   "cell_type": "code",
   "execution_count": 36,
   "id": "ab8c28af",
   "metadata": {},
   "outputs": [
    {
     "data": {
      "image/png": "[encoded data removed]",
      "text/plain": [
       "<Figure size 432x288 with 1 Axes>"
      ]
     },
     "metadata": {
      "needs_background": "light"
     },
     "output_type": "display_data"
    }
   ],
   "source": [
    "plt.hist(np.log(salePrice)) #if the log of the saleprice can be predicted then the sale price can be predicted via a transformation.\n",
    "salePrice.skew()\n",
    "target = np.log(salePrice) #make transformation to log data"
   ]
  },
  {
   "cell_type": "code",
   "execution_count": 37,
   "id": "03399990",
   "metadata": {},
   "outputs": [
    {
     "data": {
      "text/plain": [
       "<matplotlib.collections.PathCollection at 0x7f81034a9ac0>"
      ]
     },
     "execution_count": 37,
     "metadata": {},
     "output_type": "execute_result"
    },
    {
     "data": {
      "image/png": "[encoded data removed]",
      "text/plain": [
       "<Figure size 432x288 with 1 Axes>"
      ]
     },
     "metadata": {
      "needs_background": "light"
     },
     "output_type": "display_data"
    }
   ],
   "source": [
    "#evaluate GrLivArea by ploting against the transformed sale price data. Encouraging results would yield a positive, linear correlation\n",
    "plt.scatter(train['GrLivArea'], y=target)"
   ]
  },
  {
   "cell_type": "code",
   "execution_count": 38,
   "id": "96d52dfb",
   "metadata": {},
   "outputs": [
    {
     "data": {
      "text/plain": [
       "<matplotlib.collections.PathCollection at 0x7f80c01cefa0>"
      ]
     },
     "execution_count": 38,
     "metadata": {},
     "output_type": "execute_result"
    },
    {
     "data": {
      "image/png": "[encoded data removed]",
      "text/plain": [
       "<Figure size 432x288 with 1 Axes>"
      ]
     },
     "metadata": {
      "needs_background": "light"
     },
     "output_type": "display_data"
    }
   ],
   "source": [
    "#evaluate another variable\n",
    "plt.scatter(train['GarageArea'], y=target)"
   ]
  },
  {
   "cell_type": "markdown",
   "id": "b6489663",
   "metadata": {},
   "source": [
    "Both GrLivArea and GarageArea appear reasonably correlated with Sale Price. There do appear to be some null values in the GarageArea; however. "
   ]
  },
  {
   "cell_type": "markdown",
   "id": "78e1690d",
   "metadata": {},
   "source": [
    "# Clean the Data"
   ]
  },
  {
   "cell_type": "code",
   "execution_count": 42,
   "id": "35b415da",
   "metadata": {},
   "outputs": [
    {
     "data": {
      "text/html": [
       "<div>\n",
       "<style scoped>\n",
       "    .dataframe tbody tr th:only-of-type {\n",
       "        vertical-align: middle;\n",
       "    }\n",
       "\n",
       "    .dataframe tbody tr th {\n",
       "        vertical-align: top;\n",
       "    }\n",
       "\n",
       "    .dataframe thead th {\n",
       "        text-align: right;\n",
       "    }\n",
       "</style>\n",
       "<table border=\"1\" class=\"dataframe\">\n",
       "  <thead>\n",
       "    <tr style=\"text-align: right;\">\n",
       "      <th></th>\n",
       "      <th>0</th>\n",
       "    </tr>\n",
       "  </thead>\n",
       "  <tbody>\n",
       "    <tr>\n",
       "      <th>PoolQC</th>\n",
       "      <td>100</td>\n",
       "    </tr>\n",
       "    <tr>\n",
       "      <th>Alley</th>\n",
       "      <td>94</td>\n",
       "    </tr>\n",
       "    <tr>\n",
       "      <th>MiscFeature</th>\n",
       "      <td>91</td>\n",
       "    </tr>\n",
       "    <tr>\n",
       "      <th>Fence</th>\n",
       "      <td>77</td>\n",
       "    </tr>\n",
       "    <tr>\n",
       "      <th>FireplaceQu</th>\n",
       "      <td>54</td>\n",
       "    </tr>\n",
       "    <tr>\n",
       "      <th>LotFrontage</th>\n",
       "      <td>14</td>\n",
       "    </tr>\n",
       "    <tr>\n",
       "      <th>GarageType</th>\n",
       "      <td>6</td>\n",
       "    </tr>\n",
       "    <tr>\n",
       "      <th>GarageYrBlt</th>\n",
       "      <td>6</td>\n",
       "    </tr>\n",
       "    <tr>\n",
       "      <th>GarageFinish</th>\n",
       "      <td>6</td>\n",
       "    </tr>\n",
       "    <tr>\n",
       "      <th>GarageQual</th>\n",
       "      <td>6</td>\n",
       "    </tr>\n",
       "    <tr>\n",
       "      <th>GarageCond</th>\n",
       "      <td>6</td>\n",
       "    </tr>\n",
       "    <tr>\n",
       "      <th>BsmtFinType1</th>\n",
       "      <td>3</td>\n",
       "    </tr>\n",
       "    <tr>\n",
       "      <th>BsmtQual</th>\n",
       "      <td>3</td>\n",
       "    </tr>\n",
       "    <tr>\n",
       "      <th>BsmtCond</th>\n",
       "      <td>3</td>\n",
       "    </tr>\n",
       "    <tr>\n",
       "      <th>BsmtExposure</th>\n",
       "      <td>3</td>\n",
       "    </tr>\n",
       "    <tr>\n",
       "      <th>BsmtFinType2</th>\n",
       "      <td>3</td>\n",
       "    </tr>\n",
       "    <tr>\n",
       "      <th>KitchenAbvGr</th>\n",
       "      <td>0</td>\n",
       "    </tr>\n",
       "    <tr>\n",
       "      <th>Functional</th>\n",
       "      <td>0</td>\n",
       "    </tr>\n",
       "    <tr>\n",
       "      <th>BedroomAbvGr</th>\n",
       "      <td>0</td>\n",
       "    </tr>\n",
       "    <tr>\n",
       "      <th>HalfBath</th>\n",
       "      <td>0</td>\n",
       "    </tr>\n",
       "  </tbody>\n",
       "</table>\n",
       "</div>"
      ],
      "text/plain": [
       "                0\n",
       "PoolQC        100\n",
       "Alley          94\n",
       "MiscFeature    91\n",
       "Fence          77\n",
       "FireplaceQu    54\n",
       "LotFrontage    14\n",
       "GarageType      6\n",
       "GarageYrBlt     6\n",
       "GarageFinish    6\n",
       "GarageQual      6\n",
       "GarageCond      6\n",
       "BsmtFinType1    3\n",
       "BsmtQual        3\n",
       "BsmtCond        3\n",
       "BsmtExposure    3\n",
       "BsmtFinType2    3\n",
       "KitchenAbvGr    0\n",
       "Functional      0\n",
       "BedroomAbvGr    0\n",
       "HalfBath        0"
      ]
     },
     "execution_count": 42,
     "metadata": {},
     "output_type": "execute_result"
    }
   ],
   "source": [
    "#where are the nulls? \n",
    "nulls = pd.DataFrame(train.isnull().sum().sort_values(ascending = False))[0:20]\n",
    "nulls\n",
    "\n",
    "#values at the top of this list (variables with a lot of nulls) are discouraged from being included in the model"
   ]
  },
  {
   "cell_type": "code",
   "execution_count": 43,
   "id": "0f23fe18",
   "metadata": {},
   "outputs": [
    {
     "data": {
      "text/plain": [
       "(100, 82)"
      ]
     },
     "execution_count": 43,
     "metadata": {},
     "output_type": "execute_result"
    }
   ],
   "source": [
    "train.select_dtypes(include=[np.number]).interpolate().dropna(axis = 1)\n",
    "sum(data.isnull().sum() != 0)\n",
    "data.shape"
   ]
  },
  {
   "cell_type": "markdown",
   "id": "f535538c",
   "metadata": {},
   "source": [
    "# Evaluate Cleaned Data"
   ]
  },
  {
   "cell_type": "code",
   "execution_count": 45,
   "id": "4fce106a",
   "metadata": {},
   "outputs": [
    {
     "data": {
      "text/html": [
       "<div>\n",
       "<style scoped>\n",
       "    .dataframe tbody tr th:only-of-type {\n",
       "        vertical-align: middle;\n",
       "    }\n",
       "\n",
       "    .dataframe tbody tr th {\n",
       "        vertical-align: top;\n",
       "    }\n",
       "\n",
       "    .dataframe thead th {\n",
       "        text-align: right;\n",
       "    }\n",
       "</style>\n",
       "<table border=\"1\" class=\"dataframe\">\n",
       "  <thead>\n",
       "    <tr style=\"text-align: right;\">\n",
       "      <th></th>\n",
       "      <th>Unnamed: 0</th>\n",
       "      <th>Id</th>\n",
       "      <th>MSSubClass</th>\n",
       "      <th>LotFrontage</th>\n",
       "      <th>LotArea</th>\n",
       "      <th>OverallQual</th>\n",
       "      <th>OverallCond</th>\n",
       "      <th>YearBuilt</th>\n",
       "      <th>YearRemodAdd</th>\n",
       "      <th>MasVnrArea</th>\n",
       "      <th>...</th>\n",
       "      <th>OpenPorchSF</th>\n",
       "      <th>EnclosedPorch</th>\n",
       "      <th>3SsnPorch</th>\n",
       "      <th>ScreenPorch</th>\n",
       "      <th>PoolArea</th>\n",
       "      <th>PoolQC</th>\n",
       "      <th>MiscVal</th>\n",
       "      <th>MoSold</th>\n",
       "      <th>YrSold</th>\n",
       "      <th>SalePrice</th>\n",
       "    </tr>\n",
       "  </thead>\n",
       "  <tbody>\n",
       "    <tr>\n",
       "      <th>0</th>\n",
       "      <td>0</td>\n",
       "      <td>1</td>\n",
       "      <td>60</td>\n",
       "      <td>65.0</td>\n",
       "      <td>8450</td>\n",
       "      <td>7</td>\n",
       "      <td>5</td>\n",
       "      <td>2003</td>\n",
       "      <td>2003</td>\n",
       "      <td>196.0</td>\n",
       "      <td>...</td>\n",
       "      <td>61</td>\n",
       "      <td>0</td>\n",
       "      <td>0</td>\n",
       "      <td>0</td>\n",
       "      <td>0</td>\n",
       "      <td>NaN</td>\n",
       "      <td>0</td>\n",
       "      <td>2</td>\n",
       "      <td>2008</td>\n",
       "      <td>208500</td>\n",
       "    </tr>\n",
       "    <tr>\n",
       "      <th>1</th>\n",
       "      <td>1</td>\n",
       "      <td>2</td>\n",
       "      <td>20</td>\n",
       "      <td>80.0</td>\n",
       "      <td>9600</td>\n",
       "      <td>6</td>\n",
       "      <td>8</td>\n",
       "      <td>1976</td>\n",
       "      <td>1976</td>\n",
       "      <td>0.0</td>\n",
       "      <td>...</td>\n",
       "      <td>0</td>\n",
       "      <td>0</td>\n",
       "      <td>0</td>\n",
       "      <td>0</td>\n",
       "      <td>0</td>\n",
       "      <td>NaN</td>\n",
       "      <td>0</td>\n",
       "      <td>5</td>\n",
       "      <td>2007</td>\n",
       "      <td>181500</td>\n",
       "    </tr>\n",
       "    <tr>\n",
       "      <th>2</th>\n",
       "      <td>2</td>\n",
       "      <td>3</td>\n",
       "      <td>60</td>\n",
       "      <td>68.0</td>\n",
       "      <td>11250</td>\n",
       "      <td>7</td>\n",
       "      <td>5</td>\n",
       "      <td>2001</td>\n",
       "      <td>2002</td>\n",
       "      <td>162.0</td>\n",
       "      <td>...</td>\n",
       "      <td>42</td>\n",
       "      <td>0</td>\n",
       "      <td>0</td>\n",
       "      <td>0</td>\n",
       "      <td>0</td>\n",
       "      <td>NaN</td>\n",
       "      <td>0</td>\n",
       "      <td>9</td>\n",
       "      <td>2008</td>\n",
       "      <td>223500</td>\n",
       "    </tr>\n",
       "    <tr>\n",
       "      <th>3</th>\n",
       "      <td>3</td>\n",
       "      <td>4</td>\n",
       "      <td>70</td>\n",
       "      <td>60.0</td>\n",
       "      <td>9550</td>\n",
       "      <td>7</td>\n",
       "      <td>5</td>\n",
       "      <td>1915</td>\n",
       "      <td>1970</td>\n",
       "      <td>0.0</td>\n",
       "      <td>...</td>\n",
       "      <td>35</td>\n",
       "      <td>272</td>\n",
       "      <td>0</td>\n",
       "      <td>0</td>\n",
       "      <td>0</td>\n",
       "      <td>NaN</td>\n",
       "      <td>0</td>\n",
       "      <td>2</td>\n",
       "      <td>2006</td>\n",
       "      <td>140000</td>\n",
       "    </tr>\n",
       "    <tr>\n",
       "      <th>4</th>\n",
       "      <td>4</td>\n",
       "      <td>5</td>\n",
       "      <td>60</td>\n",
       "      <td>84.0</td>\n",
       "      <td>14260</td>\n",
       "      <td>8</td>\n",
       "      <td>5</td>\n",
       "      <td>2000</td>\n",
       "      <td>2000</td>\n",
       "      <td>350.0</td>\n",
       "      <td>...</td>\n",
       "      <td>84</td>\n",
       "      <td>0</td>\n",
       "      <td>0</td>\n",
       "      <td>0</td>\n",
       "      <td>0</td>\n",
       "      <td>NaN</td>\n",
       "      <td>0</td>\n",
       "      <td>12</td>\n",
       "      <td>2008</td>\n",
       "      <td>250000</td>\n",
       "    </tr>\n",
       "  </tbody>\n",
       "</table>\n",
       "<p>5 rows × 40 columns</p>\n",
       "</div>"
      ],
      "text/plain": [
       "   Unnamed: 0  Id  MSSubClass  LotFrontage  LotArea  OverallQual  OverallCond  \\\n",
       "0           0   1          60         65.0     8450            7            5   \n",
       "1           1   2          20         80.0     9600            6            8   \n",
       "2           2   3          60         68.0    11250            7            5   \n",
       "3           3   4          70         60.0     9550            7            5   \n",
       "4           4   5          60         84.0    14260            8            5   \n",
       "\n",
       "   YearBuilt  YearRemodAdd  MasVnrArea  ...  OpenPorchSF  EnclosedPorch  \\\n",
       "0       2003          2003       196.0  ...           61              0   \n",
       "1       1976          1976         0.0  ...            0              0   \n",
       "2       2001          2002       162.0  ...           42              0   \n",
       "3       1915          1970         0.0  ...           35            272   \n",
       "4       2000          2000       350.0  ...           84              0   \n",
       "\n",
       "   3SsnPorch  ScreenPorch  PoolArea  PoolQC  MiscVal  MoSold  YrSold  \\\n",
       "0          0            0         0     NaN        0       2    2008   \n",
       "1          0            0         0     NaN        0       5    2007   \n",
       "2          0            0         0     NaN        0       9    2008   \n",
       "3          0            0         0     NaN        0       2    2006   \n",
       "4          0            0         0     NaN        0      12    2008   \n",
       "\n",
       "   SalePrice  \n",
       "0     208500  \n",
       "1     181500  \n",
       "2     223500  \n",
       "3     140000  \n",
       "4     250000  \n",
       "\n",
       "[5 rows x 40 columns]"
      ]
     },
     "execution_count": 45,
     "metadata": {},
     "output_type": "execute_result"
    }
   ],
   "source": [
    "# select numeric columns\n",
    "# calculate correlation factor\n",
    "import numpy as np\n",
    "\n",
    "\n",
    "numeric = train.select_dtypes(include=[np.number])\n",
    "numeric.shape \n",
    "numeric.head()"
   ]
  },
  {
   "cell_type": "code",
   "execution_count": 46,
   "id": "3fa0b6c3",
   "metadata": {},
   "outputs": [
    {
     "data": {
      "text/plain": [
       "(40, 40)"
      ]
     },
     "execution_count": 46,
     "metadata": {},
     "output_type": "execute_result"
    }
   ],
   "source": [
    "#determine correlation\n",
    "corr = numeric.corr() #use numeric column, not train\n",
    "corr.shape"
   ]
  },
  {
   "cell_type": "markdown",
   "id": "50ea699d",
   "metadata": {},
   "source": [
    "# Set up Model"
   ]
  },
  {
   "cell_type": "code",
   "execution_count": 52,
   "id": "6cc92de4",
   "metadata": {},
   "outputs": [
    {
     "data": {
      "text/plain": [
       "Index(['SalePrice', 'OverallQual', 'GrLivArea', 'GarageArea', 'GarageCars',\n",
       "       'YearBuilt'],\n",
       "      dtype='object')"
      ]
     },
     "execution_count": 52,
     "metadata": {},
     "output_type": "execute_result"
    }
   ],
   "source": [
    "#What is correlated with Sale Price?\n",
    "cols = corr['SalePrice'].sort_values(ascending = False)[0:6].index\n",
    "cols"
   ]
  },
  {
   "cell_type": "code",
   "execution_count": 53,
   "id": "a5480484",
   "metadata": {},
   "outputs": [
    {
     "data": {
      "text/html": [
       "<div>\n",
       "<style scoped>\n",
       "    .dataframe tbody tr th:only-of-type {\n",
       "        vertical-align: middle;\n",
       "    }\n",
       "\n",
       "    .dataframe tbody tr th {\n",
       "        vertical-align: top;\n",
       "    }\n",
       "\n",
       "    .dataframe thead th {\n",
       "        text-align: right;\n",
       "    }\n",
       "</style>\n",
       "<table border=\"1\" class=\"dataframe\">\n",
       "  <thead>\n",
       "    <tr style=\"text-align: right;\">\n",
       "      <th></th>\n",
       "      <th>OverallQual</th>\n",
       "      <th>GrLivArea</th>\n",
       "      <th>GarageArea</th>\n",
       "      <th>GarageCars</th>\n",
       "      <th>YearBuilt</th>\n",
       "    </tr>\n",
       "  </thead>\n",
       "  <tbody>\n",
       "    <tr>\n",
       "      <th>0</th>\n",
       "      <td>7</td>\n",
       "      <td>1710</td>\n",
       "      <td>548</td>\n",
       "      <td>2</td>\n",
       "      <td>2003</td>\n",
       "    </tr>\n",
       "    <tr>\n",
       "      <th>1</th>\n",
       "      <td>6</td>\n",
       "      <td>1262</td>\n",
       "      <td>460</td>\n",
       "      <td>2</td>\n",
       "      <td>1976</td>\n",
       "    </tr>\n",
       "    <tr>\n",
       "      <th>2</th>\n",
       "      <td>7</td>\n",
       "      <td>1786</td>\n",
       "      <td>608</td>\n",
       "      <td>2</td>\n",
       "      <td>2001</td>\n",
       "    </tr>\n",
       "    <tr>\n",
       "      <th>3</th>\n",
       "      <td>7</td>\n",
       "      <td>1717</td>\n",
       "      <td>642</td>\n",
       "      <td>3</td>\n",
       "      <td>1915</td>\n",
       "    </tr>\n",
       "    <tr>\n",
       "      <th>4</th>\n",
       "      <td>8</td>\n",
       "      <td>2198</td>\n",
       "      <td>836</td>\n",
       "      <td>3</td>\n",
       "      <td>2000</td>\n",
       "    </tr>\n",
       "    <tr>\n",
       "      <th>...</th>\n",
       "      <td>...</td>\n",
       "      <td>...</td>\n",
       "      <td>...</td>\n",
       "      <td>...</td>\n",
       "      <td>...</td>\n",
       "    </tr>\n",
       "    <tr>\n",
       "      <th>95</th>\n",
       "      <td>6</td>\n",
       "      <td>1470</td>\n",
       "      <td>420</td>\n",
       "      <td>2</td>\n",
       "      <td>1993</td>\n",
       "    </tr>\n",
       "    <tr>\n",
       "      <th>96</th>\n",
       "      <td>7</td>\n",
       "      <td>1588</td>\n",
       "      <td>472</td>\n",
       "      <td>2</td>\n",
       "      <td>1999</td>\n",
       "    </tr>\n",
       "    <tr>\n",
       "      <th>97</th>\n",
       "      <td>4</td>\n",
       "      <td>960</td>\n",
       "      <td>432</td>\n",
       "      <td>1</td>\n",
       "      <td>1965</td>\n",
       "    </tr>\n",
       "    <tr>\n",
       "      <th>98</th>\n",
       "      <td>5</td>\n",
       "      <td>835</td>\n",
       "      <td>366</td>\n",
       "      <td>1</td>\n",
       "      <td>1920</td>\n",
       "    </tr>\n",
       "    <tr>\n",
       "      <th>99</th>\n",
       "      <td>4</td>\n",
       "      <td>1225</td>\n",
       "      <td>0</td>\n",
       "      <td>0</td>\n",
       "      <td>1959</td>\n",
       "    </tr>\n",
       "  </tbody>\n",
       "</table>\n",
       "<p>100 rows × 5 columns</p>\n",
       "</div>"
      ],
      "text/plain": [
       "    OverallQual  GrLivArea  GarageArea  GarageCars  YearBuilt\n",
       "0             7       1710         548           2       2003\n",
       "1             6       1262         460           2       1976\n",
       "2             7       1786         608           2       2001\n",
       "3             7       1717         642           3       1915\n",
       "4             8       2198         836           3       2000\n",
       "..          ...        ...         ...         ...        ...\n",
       "95            6       1470         420           2       1993\n",
       "96            7       1588         472           2       1999\n",
       "97            4        960         432           1       1965\n",
       "98            5        835         366           1       1920\n",
       "99            4       1225           0           0       1959\n",
       "\n",
       "[100 rows x 5 columns]"
      ]
     },
     "execution_count": 53,
     "metadata": {},
     "output_type": "execute_result"
    }
   ],
   "source": [
    "#Select X, Y values for model\n",
    "X = data[cols]\n",
    "Y = X['SalePrice']\n",
    "X = X.drop(['SalePrice'], axis = 1)#drop sale price from X\n",
    "X"
   ]
  },
  {
   "cell_type": "code",
   "execution_count": 55,
   "id": "f55c6d0e",
   "metadata": {},
   "outputs": [
    {
     "name": "stdout",
     "output_type": "stream",
     "text": [
      "R^2 is: 0.8309859964337734\n"
     ]
    }
   ],
   "source": [
    "#Build linear regression model\n",
    "from sklearn import linear_model\n",
    "\n",
    "#Use linear_model.LinearRegression() class to instantiate the linear regression model so it can be implemented\n",
    "lr = linear_model.LinearRegression()\n",
    "\n",
    "#build model, fit the data\n",
    "model = lr.fit(X,Y)\n",
    "\n",
    "#make predictions\n",
    "predictions = model.predict(X)\n",
    "\n",
    "print(f\"R^2 is: {model.score(X,Y)}\")\n"
   ]
  },
  {
   "cell_type": "code",
   "execution_count": 56,
   "id": "3331e4cb",
   "metadata": {},
   "outputs": [
    {
     "data": {
      "text/plain": [
       "0.8309859964337734"
      ]
     },
     "execution_count": 56,
     "metadata": {},
     "output_type": "execute_result"
    }
   ],
   "source": [
    "#how good is the model? Use R^2 as a memtric\n",
    "model.score(X,Y) #what % of the sale price is predicted from the independent variables selected\n"
   ]
  },
  {
   "cell_type": "code",
   "execution_count": 58,
   "id": "b90a14e0",
   "metadata": {},
   "outputs": [
    {
     "data": {
      "text/plain": [
       "(array([ 2.,  4., 19., 26., 26., 13.,  6.,  2.,  0.,  2.]),\n",
       " array([-72416.69551558, -54597.83016337, -36778.96481115, -18960.09945894,\n",
       "         -1141.23410673,  16677.63124549,  34496.4965977 ,  52315.36194991,\n",
       "         70134.22730213,  87953.09265434, 105771.95800655]),\n",
       " <BarContainer object of 10 artists>)"
      ]
     },
     "execution_count": 58,
     "metadata": {},
     "output_type": "execute_result"
    },
    {
     "data": {
      "image/png": "[encoded data removed]",
      "text/plain": [
       "<Figure size 432x288 with 1 Axes>"
      ]
     },
     "metadata": {
      "needs_background": "light"
     },
     "output_type": "display_data"
    }
   ],
   "source": [
    "plt.hist(Y - predictions) #this should look like a normal distribution"
   ]
  },
  {
   "cell_type": "code",
   "execution_count": 57,
   "id": "64195d5e",
   "metadata": {},
   "outputs": [
    {
     "data": {
      "text/plain": [
       "<matplotlib.collections.PathCollection at 0x7f8140bdc250>"
      ]
     },
     "execution_count": 57,
     "metadata": {},
     "output_type": "execute_result"
    },
    {
     "data": {
      "image/png": "[encoded data removed]",
      "text/plain": [
       "<Figure size 432x288 with 1 Axes>"
      ]
     },
     "metadata": {
      "needs_background": "light"
     },
     "output_type": "display_data"
    }
   ],
   "source": [
    "#scatter plot of predictions\n",
    "plt.scatter(predictions, Y)\n",
    "\n",
    "#ideally, should be a straight line with a slope of 1"
   ]
  },
  {
   "cell_type": "markdown",
   "id": "be4a408c",
   "metadata": {},
   "source": [
    "The R2 value can likely be improved by recruiting additional variables. This also means the data in these variables needs to be scruitinized and cleaned to ensure it is good enough to employ in this model. "
   ]
  },
  {
   "cell_type": "markdown",
   "id": "d6db1aaf",
   "metadata": {},
   "source": [
    "# Test model against new data"
   ]
  },
  {
   "cell_type": "code",
   "execution_count": 59,
   "id": "6e2f433d",
   "metadata": {},
   "outputs": [
    {
     "data": {
      "text/html": [
       "<div>\n",
       "<style scoped>\n",
       "    .dataframe tbody tr th:only-of-type {\n",
       "        vertical-align: middle;\n",
       "    }\n",
       "\n",
       "    .dataframe tbody tr th {\n",
       "        vertical-align: top;\n",
       "    }\n",
       "\n",
       "    .dataframe thead th {\n",
       "        text-align: right;\n",
       "    }\n",
       "</style>\n",
       "<table border=\"1\" class=\"dataframe\">\n",
       "  <thead>\n",
       "    <tr style=\"text-align: right;\">\n",
       "      <th></th>\n",
       "      <th>Unnamed: 0</th>\n",
       "      <th>Id</th>\n",
       "      <th>MSSubClass</th>\n",
       "      <th>MSZoning</th>\n",
       "      <th>LotFrontage</th>\n",
       "      <th>LotArea</th>\n",
       "      <th>Street</th>\n",
       "      <th>Alley</th>\n",
       "      <th>LotShape</th>\n",
       "      <th>LandContour</th>\n",
       "      <th>...</th>\n",
       "      <th>PoolArea</th>\n",
       "      <th>PoolQC</th>\n",
       "      <th>Fence</th>\n",
       "      <th>MiscFeature</th>\n",
       "      <th>MiscVal</th>\n",
       "      <th>MoSold</th>\n",
       "      <th>YrSold</th>\n",
       "      <th>SaleType</th>\n",
       "      <th>SaleCondition</th>\n",
       "      <th>SalePrice</th>\n",
       "    </tr>\n",
       "  </thead>\n",
       "  <tbody>\n",
       "    <tr>\n",
       "      <th>0</th>\n",
       "      <td>100</td>\n",
       "      <td>101</td>\n",
       "      <td>20</td>\n",
       "      <td>RL</td>\n",
       "      <td>NaN</td>\n",
       "      <td>10603</td>\n",
       "      <td>Pave</td>\n",
       "      <td>NaN</td>\n",
       "      <td>IR1</td>\n",
       "      <td>Lvl</td>\n",
       "      <td>...</td>\n",
       "      <td>0</td>\n",
       "      <td>NaN</td>\n",
       "      <td>NaN</td>\n",
       "      <td>NaN</td>\n",
       "      <td>0</td>\n",
       "      <td>2</td>\n",
       "      <td>2010</td>\n",
       "      <td>WD</td>\n",
       "      <td>Normal</td>\n",
       "      <td>205000</td>\n",
       "    </tr>\n",
       "    <tr>\n",
       "      <th>1</th>\n",
       "      <td>101</td>\n",
       "      <td>102</td>\n",
       "      <td>60</td>\n",
       "      <td>RL</td>\n",
       "      <td>77.0</td>\n",
       "      <td>9206</td>\n",
       "      <td>Pave</td>\n",
       "      <td>NaN</td>\n",
       "      <td>Reg</td>\n",
       "      <td>Lvl</td>\n",
       "      <td>...</td>\n",
       "      <td>0</td>\n",
       "      <td>NaN</td>\n",
       "      <td>NaN</td>\n",
       "      <td>NaN</td>\n",
       "      <td>0</td>\n",
       "      <td>6</td>\n",
       "      <td>2010</td>\n",
       "      <td>WD</td>\n",
       "      <td>Normal</td>\n",
       "      <td>178000</td>\n",
       "    </tr>\n",
       "    <tr>\n",
       "      <th>2</th>\n",
       "      <td>102</td>\n",
       "      <td>103</td>\n",
       "      <td>90</td>\n",
       "      <td>RL</td>\n",
       "      <td>64.0</td>\n",
       "      <td>7018</td>\n",
       "      <td>Pave</td>\n",
       "      <td>NaN</td>\n",
       "      <td>Reg</td>\n",
       "      <td>Bnk</td>\n",
       "      <td>...</td>\n",
       "      <td>0</td>\n",
       "      <td>NaN</td>\n",
       "      <td>NaN</td>\n",
       "      <td>NaN</td>\n",
       "      <td>0</td>\n",
       "      <td>6</td>\n",
       "      <td>2009</td>\n",
       "      <td>WD</td>\n",
       "      <td>Alloca</td>\n",
       "      <td>118964</td>\n",
       "    </tr>\n",
       "    <tr>\n",
       "      <th>3</th>\n",
       "      <td>103</td>\n",
       "      <td>104</td>\n",
       "      <td>20</td>\n",
       "      <td>RL</td>\n",
       "      <td>94.0</td>\n",
       "      <td>10402</td>\n",
       "      <td>Pave</td>\n",
       "      <td>NaN</td>\n",
       "      <td>IR1</td>\n",
       "      <td>Lvl</td>\n",
       "      <td>...</td>\n",
       "      <td>0</td>\n",
       "      <td>NaN</td>\n",
       "      <td>NaN</td>\n",
       "      <td>NaN</td>\n",
       "      <td>0</td>\n",
       "      <td>5</td>\n",
       "      <td>2010</td>\n",
       "      <td>WD</td>\n",
       "      <td>Normal</td>\n",
       "      <td>198900</td>\n",
       "    </tr>\n",
       "    <tr>\n",
       "      <th>4</th>\n",
       "      <td>104</td>\n",
       "      <td>105</td>\n",
       "      <td>50</td>\n",
       "      <td>RM</td>\n",
       "      <td>NaN</td>\n",
       "      <td>7758</td>\n",
       "      <td>Pave</td>\n",
       "      <td>NaN</td>\n",
       "      <td>Reg</td>\n",
       "      <td>Lvl</td>\n",
       "      <td>...</td>\n",
       "      <td>0</td>\n",
       "      <td>NaN</td>\n",
       "      <td>NaN</td>\n",
       "      <td>NaN</td>\n",
       "      <td>0</td>\n",
       "      <td>6</td>\n",
       "      <td>2007</td>\n",
       "      <td>WD</td>\n",
       "      <td>Normal</td>\n",
       "      <td>169500</td>\n",
       "    </tr>\n",
       "  </tbody>\n",
       "</table>\n",
       "<p>5 rows × 82 columns</p>\n",
       "</div>"
      ],
      "text/plain": [
       "   Unnamed: 0   Id  MSSubClass MSZoning  LotFrontage  LotArea Street Alley  \\\n",
       "0         100  101          20       RL          NaN    10603   Pave   NaN   \n",
       "1         101  102          60       RL         77.0     9206   Pave   NaN   \n",
       "2         102  103          90       RL         64.0     7018   Pave   NaN   \n",
       "3         103  104          20       RL         94.0    10402   Pave   NaN   \n",
       "4         104  105          50       RM          NaN     7758   Pave   NaN   \n",
       "\n",
       "  LotShape LandContour  ... PoolArea PoolQC Fence MiscFeature MiscVal MoSold  \\\n",
       "0      IR1         Lvl  ...        0    NaN   NaN         NaN       0      2   \n",
       "1      Reg         Lvl  ...        0    NaN   NaN         NaN       0      6   \n",
       "2      Reg         Bnk  ...        0    NaN   NaN         NaN       0      6   \n",
       "3      IR1         Lvl  ...        0    NaN   NaN         NaN       0      5   \n",
       "4      Reg         Lvl  ...        0    NaN   NaN         NaN       0      6   \n",
       "\n",
       "  YrSold SaleType  SaleCondition  SalePrice  \n",
       "0   2010       WD         Normal     205000  \n",
       "1   2010       WD         Normal     178000  \n",
       "2   2009       WD         Alloca     118964  \n",
       "3   2010       WD         Normal     198900  \n",
       "4   2007       WD         Normal     169500  \n",
       "\n",
       "[5 rows x 82 columns]"
      ]
     },
     "execution_count": 59,
     "metadata": {},
     "output_type": "execute_result"
    }
   ],
   "source": [
    "#test model against data that it hasn't seen. use the jtest.csv file.\n",
    "\n",
    "test = pd.read_csv('jtest.csv')\n",
    "test.shape\n",
    "test.head()"
   ]
  },
  {
   "cell_type": "code",
   "execution_count": 60,
   "id": "c36f4822",
   "metadata": {},
   "outputs": [
    {
     "data": {
      "text/html": [
       "<div>\n",
       "<style scoped>\n",
       "    .dataframe tbody tr th:only-of-type {\n",
       "        vertical-align: middle;\n",
       "    }\n",
       "\n",
       "    .dataframe tbody tr th {\n",
       "        vertical-align: top;\n",
       "    }\n",
       "\n",
       "    .dataframe thead th {\n",
       "        text-align: right;\n",
       "    }\n",
       "</style>\n",
       "<table border=\"1\" class=\"dataframe\">\n",
       "  <thead>\n",
       "    <tr style=\"text-align: right;\">\n",
       "      <th></th>\n",
       "      <th>OverallQual</th>\n",
       "      <th>GrLivArea</th>\n",
       "      <th>GarageArea</th>\n",
       "      <th>GarageCars</th>\n",
       "      <th>YearBuilt</th>\n",
       "    </tr>\n",
       "  </thead>\n",
       "  <tbody>\n",
       "    <tr>\n",
       "      <th>0</th>\n",
       "      <td>6</td>\n",
       "      <td>1610</td>\n",
       "      <td>480</td>\n",
       "      <td>2</td>\n",
       "      <td>1977</td>\n",
       "    </tr>\n",
       "    <tr>\n",
       "      <th>1</th>\n",
       "      <td>6</td>\n",
       "      <td>1732</td>\n",
       "      <td>476</td>\n",
       "      <td>2</td>\n",
       "      <td>1985</td>\n",
       "    </tr>\n",
       "    <tr>\n",
       "      <th>2</th>\n",
       "      <td>5</td>\n",
       "      <td>1535</td>\n",
       "      <td>410</td>\n",
       "      <td>2</td>\n",
       "      <td>1979</td>\n",
       "    </tr>\n",
       "    <tr>\n",
       "      <th>3</th>\n",
       "      <td>7</td>\n",
       "      <td>1226</td>\n",
       "      <td>740</td>\n",
       "      <td>3</td>\n",
       "      <td>2009</td>\n",
       "    </tr>\n",
       "    <tr>\n",
       "      <th>4</th>\n",
       "      <td>7</td>\n",
       "      <td>1818</td>\n",
       "      <td>240</td>\n",
       "      <td>1</td>\n",
       "      <td>1931</td>\n",
       "    </tr>\n",
       "    <tr>\n",
       "      <th>...</th>\n",
       "      <td>...</td>\n",
       "      <td>...</td>\n",
       "      <td>...</td>\n",
       "      <td>...</td>\n",
       "      <td>...</td>\n",
       "    </tr>\n",
       "    <tr>\n",
       "      <th>95</th>\n",
       "      <td>6</td>\n",
       "      <td>1456</td>\n",
       "      <td>440</td>\n",
       "      <td>2</td>\n",
       "      <td>1976</td>\n",
       "    </tr>\n",
       "    <tr>\n",
       "      <th>96</th>\n",
       "      <td>7</td>\n",
       "      <td>1726</td>\n",
       "      <td>786</td>\n",
       "      <td>3</td>\n",
       "      <td>2007</td>\n",
       "    </tr>\n",
       "    <tr>\n",
       "      <th>97</th>\n",
       "      <td>8</td>\n",
       "      <td>3112</td>\n",
       "      <td>795</td>\n",
       "      <td>2</td>\n",
       "      <td>1918</td>\n",
       "    </tr>\n",
       "    <tr>\n",
       "      <th>98</th>\n",
       "      <td>6</td>\n",
       "      <td>2229</td>\n",
       "      <td>0</td>\n",
       "      <td>0</td>\n",
       "      <td>1912</td>\n",
       "    </tr>\n",
       "    <tr>\n",
       "      <th>99</th>\n",
       "      <td>8</td>\n",
       "      <td>1713</td>\n",
       "      <td>856</td>\n",
       "      <td>3</td>\n",
       "      <td>2004</td>\n",
       "    </tr>\n",
       "  </tbody>\n",
       "</table>\n",
       "<p>100 rows × 5 columns</p>\n",
       "</div>"
      ],
      "text/plain": [
       "    OverallQual  GrLivArea  GarageArea  GarageCars  YearBuilt\n",
       "0             6       1610         480           2       1977\n",
       "1             6       1732         476           2       1985\n",
       "2             5       1535         410           2       1979\n",
       "3             7       1226         740           3       2009\n",
       "4             7       1818         240           1       1931\n",
       "..          ...        ...         ...         ...        ...\n",
       "95            6       1456         440           2       1976\n",
       "96            7       1726         786           3       2007\n",
       "97            8       3112         795           2       1918\n",
       "98            6       2229           0           0       1912\n",
       "99            8       1713         856           3       2004\n",
       "\n",
       "[100 rows x 5 columns]"
      ]
     },
     "execution_count": 60,
     "metadata": {},
     "output_type": "execute_result"
    }
   ],
   "source": [
    "#make test data\n",
    "\n",
    "X = test[cols]\n",
    "Y = X['SalePrice']\n",
    "X = X.drop(['SalePrice'], axis = 1)\n",
    "\n",
    "X"
   ]
  },
  {
   "cell_type": "code",
   "execution_count": 61,
   "id": "b8fa6a89",
   "metadata": {},
   "outputs": [
    {
     "name": "stdout",
     "output_type": "stream",
     "text": [
      "R^2 is: 0.7403341313192593\n"
     ]
    }
   ],
   "source": [
    "#make predictions based on the test data\n",
    "\n",
    "predictions = model.predict(X)\n",
    "print(f\"R^2 is: {model.score(X,Y)}\")"
   ]
  }
 ],
 "metadata": {
  "kernelspec": {
   "display_name": "Python 3 (ipykernel)",
   "language": "python",
   "name": "python3"
  },
  "language_info": {
   "codemirror_mode": {
    "name": "ipython",
    "version": 3
   },
   "file_extension": ".py",
   "mimetype": "text/x-python",
   "name": "python",
   "nbconvert_exporter": "python",
   "pygments_lexer": "ipython3",
   "version": "3.9.7"
  }
 },
 "nbformat": 4,
 "nbformat_minor": 5
}
